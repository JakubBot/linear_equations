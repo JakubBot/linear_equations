{
 "cells": [
  {
   "cell_type": "markdown",
   "metadata": {},
   "source": [
    "Imports\n"
   ]
  },
  {
   "cell_type": "code",
   "execution_count": 1,
   "metadata": {},
   "outputs": [],
   "source": [
    "import numpy as np\n",
    "from helpers import create_band_matrix, create_forcing_matrix, create_graph\n",
    "from matrix_algorithms import (\n",
    "    solve_jacobi,\n",
    "    solve_jacobi_optimized,\n",
    "    solve_gauss_seidel,\n",
    "    solve_gauss_seidel_optimized,\n",
    "    solve_l_u,\n",
    "    solve_l_u_optimized,\n",
    "    OutputSolution,\n",
    ")\n",
    "from app_types import Config\n",
    "import os"
   ]
  },
  {
   "cell_type": "code",
   "execution_count": 2,
   "metadata": {},
   "outputs": [],
   "source": [
    "# Glocal variables & config\n",
    "\n",
    "OUTPUT_DOCS_PATH = \"../docs\"\n",
    "\n",
    "if not os.path.exists(OUTPUT_DOCS_PATH):\n",
    "    os.makedirs(OUTPUT_DOCS_PATH)"
   ]
  },
  {
   "cell_type": "markdown",
   "metadata": {},
   "source": [
    "Task A\n"
   ]
  },
  {
   "cell_type": "code",
   "execution_count": 3,
   "metadata": {},
   "outputs": [
    {
     "name": "stdout",
     "output_type": "stream",
     "text": [
      "[[13 -1 -1 ...  0  0  0]\n",
      " [-1 13 -1 ...  0  0  0]\n",
      " [-1 -1 13 ...  0  0  0]\n",
      " ...\n",
      " [ 0  0  0 ... 13 -1 -1]\n",
      " [ 0  0  0 ... -1 13 -1]\n",
      " [ 0  0  0 ... -1 -1 13]]\n",
      "[[ 0.98935825]\n",
      " [ 0.91794788]\n",
      " [ 0.3781055 ]\n",
      " ...\n",
      " [ 0.96749073]\n",
      " [-0.72202085]\n",
      " [-0.69618518]]\n"
     ]
    }
   ],
   "source": [
    "index = 197839\n",
    "\n",
    "thrid_digit = index // 1000 % 10  # 3rd digit of index\n",
    "fourth_digit = index // 100 % 10  # 4th digit of index\n",
    "\n",
    "before_last = index // 10 % 10  # before last digit of index\n",
    "last_digit = index % 10  # last digit of index\n",
    "\n",
    "a1 = 5 + fourth_digit  # a1 = 5 + 4th digit of index\n",
    "a2 = a3 = -1\n",
    "\n",
    "N = 1200 + 10 * before_last + last_digit\n",
    "\n",
    "A = create_band_matrix(a1, a2, a3, N)\n",
    "b = create_forcing_matrix(N, thrid_digit + 1)\n",
    "\n",
    "print(A)\n",
    "print(b)"
   ]
  },
  {
   "cell_type": "markdown",
   "metadata": {},
   "source": [
    "Task B\n"
   ]
  },
  {
   "cell_type": "code",
   "execution_count": null,
   "metadata": {},
   "outputs": [],
   "source": [
    "jacobi: OutputSolution = solve_jacobi(A, b)\n",
    "print(\n",
    "    f\"Jacobi iterations: {jacobi.iterations}, time: {jacobi.time}, residual norm: {jacobi.errors[-1]}\"\n",
    ")\n",
    "\n",
    "jacobi_optimized: OutputSolution = solve_jacobi_optimized(A, b)\n",
    "print(\n",
    "    f\"Jacobi optimized iterations: {jacobi_optimized.iterations}, time: {jacobi_optimized.time}, residual norm: {jacobi_optimized.errors[-1]}\"\n",
    ")\n",
    "\n",
    "gauss: OutputSolution = solve_gauss_seidel(A, b)\n",
    "print(\n",
    "    f\"Gauss iterations: {gauss.iterations}, time: {gauss.time}, residual norm: {gauss.errors[-1]}\"\n",
    ")\n",
    "\n",
    "gauss_optimized: OutputSolution = solve_gauss_seidel_optimized(A, b)\n",
    "print(\n",
    "    f\"Gauss optimized iterations: {gauss_optimized.iterations}, time: {gauss_optimized.time}, residual norm: {gauss_optimized.errors[-1]}\"\n",
    ")\n",
    "\n",
    "l_u_solution: OutputSolution = solve_l_u(A, b)\n",
    "print(f\"Time: {l_u_solution.time}, residual norm: {l_u_solution.errors[-1]}\")\n",
    "\n",
    "config = Config(\n",
    "    x_label=\"Iterations\",\n",
    "    y_label=\"Residual Norm\",\n",
    "    title=\"Gauss-Seidel vs Jacobi Error Convergence\",\n",
    "    path=f\"{OUTPUT_DOCS_PATH}/error_covergence.png\",\n",
    "    plot=[[jacobi.errors, \"Jacobi Error\"], [gauss.errors, \"Gauss-Seidel Error\"]],\n",
    "    axhline=[[1e-9, \"Convergence Threshold\"]],\n",
    "    figsize=(12, 6),\n",
    ")\n",
    "\n",
    "\n",
    "create_graph(config)"
   ]
  },
  {
   "cell_type": "markdown",
   "metadata": {},
   "source": [
    "Task C\n"
   ]
  },
  {
   "cell_type": "code",
   "execution_count": null,
   "metadata": {},
   "outputs": [],
   "source": [
    "# change A matrix parameters\n",
    "A = create_band_matrix(3, -1, -1, N)\n",
    "\n",
    "jacobi: OutputSolution = solve_jacobi(A, b)\n",
    "print(\n",
    "    f\"Jacobi iterations: {jacobi.iterations}, time: {jacobi.time}, residual norm: {jacobi.errors[-1]}, coverage: {'Yes' if jacobi.does_converge else 'No'}\"\n",
    ")\n",
    "\n",
    "jacobi_optimized: OutputSolution = solve_jacobi_optimized(A, b)\n",
    "print(\n",
    "    f\"Jacobi optimized iterations: {jacobi_optimized.iterations}, time: {jacobi_optimized.time}, residual norm: {jacobi_optimized.errors[-1]}\"\n",
    ")\n",
    "\n",
    "gauss: OutputSolution = solve_gauss_seidel(A, b)\n",
    "print(\n",
    "    f\"Gauss iterations: {gauss.iterations}, time: {gauss.time}, residual norm: {gauss.errors[-1]}, coverage: {'Yes' if gauss.does_converge else 'No'}\"\n",
    ")\n",
    "\n",
    "gauss_optimized: OutputSolution = solve_gauss_seidel_optimized(A, b)\n",
    "print(\n",
    "    f\"Gauss optimized iterations: {gauss_optimized.iterations}, time: {gauss_optimized.time}, residual norm: {gauss_optimized.errors[-1]}\"\n",
    ")\n",
    "\n",
    "config = Config(\n",
    "    x_label=\"Iterations\",\n",
    "    y_label=\"Residual Norm\",\n",
    "    title=\"Gauss-Seidel vs Jacobi Error Convergence\",\n",
    "    path=f\"{OUTPUT_DOCS_PATH}/error_covergence_alternative.png\",\n",
    "    plot=[[gauss.errors, \"Gauss-Seidel Error\"], [jacobi.errors, \"Jacobi Error\"]],\n",
    "    axhline=[[1e9, \"Divergence threshold\"]],\n",
    "    figsize=(12, 6),\n",
    ")\n",
    "create_graph(config)"
   ]
  },
  {
   "cell_type": "markdown",
   "metadata": {},
   "source": [
    "Task D\n"
   ]
  },
  {
   "cell_type": "code",
   "execution_count": null,
   "metadata": {},
   "outputs": [],
   "source": [
    "A = create_band_matrix(3, -1, -1, N)\n",
    "\n",
    "l_u_solution: OutputSolution = solve_l_u(A, b)\n",
    "print(f\"Time: {l_u_solution.time}, residual norm: {l_u_solution.errors[-1]}\")\n",
    "\n",
    "l_u_solution_optimized: OutputSolution = solve_l_u_optimized(A, b)\n",
    "print(\n",
    "    f\"Time: {l_u_solution_optimized.time}, residual norm: {l_u_solution_optimized.errors[-1]}\"\n",
    ")"
   ]
  },
  {
   "cell_type": "markdown",
   "metadata": {},
   "source": [
    "Task E\n"
   ]
  },
  {
   "cell_type": "code",
   "execution_count": null,
   "metadata": {},
   "outputs": [],
   "source": [
    "Matrix_sizes = [100, 500, 1000, 1500, 2000]\n",
    "\n",
    "data = {\n",
    "    method: {\n",
    "        \"title\": method.replace(\"_\", \" \").title(),\n",
    "        \"time\": [],\n",
    "    }\n",
    "    for method in [\n",
    "        \"jacobi\",\n",
    "        \"jacobi_optimized\",\n",
    "        \"gauss_seidel\",\n",
    "        \"gauss_seidel_optimized\",\n",
    "        \"lu\",\n",
    "        \"lu_optimized\",\n",
    "    ]\n",
    "}\n",
    "\n",
    "\n",
    "for size in Matrix_sizes:\n",
    "    A = create_band_matrix(a1, a2, a3, size)\n",
    "    b = create_forcing_matrix(size, thrid_digit + 1)\n",
    "\n",
    "    jacobi: OutputSolution = solve_jacobi(A, b)\n",
    "    gauss: OutputSolution = solve_gauss_seidel(A, b)\n",
    "    l_u_solution: OutputSolution = solve_l_u(A, b)\n",
    "    jacobi_optimized: OutputSolution = solve_jacobi_optimized(A, b)\n",
    "    gauss_optimized: OutputSolution = solve_gauss_seidel_optimized(A, b)\n",
    "    l_u_solution_optimized: OutputSolution = solve_l_u_optimized(A, b)\n",
    "\n",
    "    data[\"jacobi\"][\"time\"].append(jacobi.time)\n",
    "    data[\"gauss_seidel\"][\"time\"].append(gauss.time)\n",
    "    data[\"lu\"][\"time\"].append(l_u_solution.time)\n",
    "    data[\"jacobi_optimized\"][\"time\"].append(jacobi_optimized.time)\n",
    "    data[\"gauss_seidel_optimized\"][\"time\"].append(gauss_optimized.time)\n",
    "    data[\"lu_optimized\"][\"time\"].append(l_u_solution_optimized.time)\n",
    "\n",
    "\n",
    "plot_data = [\n",
    "    [Matrix_sizes, data[method][\"time\"], f\"{data[method]['title']} Time\"]\n",
    "    for method in data\n",
    "]\n",
    "\n",
    "configLog = Config(\n",
    "    x_label=\"Matrix N\",\n",
    "    y_label=\"Time (s)\",\n",
    "    title=\"Comparision of diffrent methods that solves linear equations (log scale)\",\n",
    "    path=f\"{OUTPUT_DOCS_PATH}/time_comparison_log.png\",\n",
    "    plot=plot_data,\n",
    "    log_y_axis=True,\n",
    "    has_x_axis=True,\n",
    "    figsize=(12, 6),\n",
    ")\n",
    "create_graph(configLog)\n",
    "\n",
    "configLinear = Config(\n",
    "    x_label=\"Matrix N\",\n",
    "    y_label=\"Time (s)\",\n",
    "    title=\"Comparision of diffrent methods that solves linear equations (linear scale)\",\n",
    "    path=f\"{OUTPUT_DOCS_PATH}/time_comparison_linear.png\",\n",
    "    plot=plot_data,\n",
    "    log_y_axis=False,\n",
    "    has_x_axis=True,\n",
    "    figsize=(12, 6),\n",
    ")\n",
    "create_graph(configLinear)"
   ]
  }
 ],
 "metadata": {
  "kernelspec": {
   "display_name": "my_env",
   "language": "python",
   "name": "python3"
  },
  "language_info": {
   "codemirror_mode": {
    "name": "ipython",
    "version": 3
   },
   "file_extension": ".py",
   "mimetype": "text/x-python",
   "name": "python",
   "nbconvert_exporter": "python",
   "pygments_lexer": "ipython3",
   "version": "3.10.0"
  }
 },
 "nbformat": 4,
 "nbformat_minor": 2
}
