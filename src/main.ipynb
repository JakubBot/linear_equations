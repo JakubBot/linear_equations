{
 "cells": [
  {
   "cell_type": "markdown",
   "metadata": {},
   "source": [
    "Imports"
   ]
  },
  {
   "cell_type": "code",
   "execution_count": 1,
   "metadata": {},
   "outputs": [],
   "source": [
    "import numpy as np\n",
    "from helpers import create_band_matrix,create_forcing_matrix\n",
    "from matrix_algorithms import solve_jacobi,solve_gauss_seidel, OutputSolution"
   ]
  },
  {
   "cell_type": "markdown",
   "metadata": {},
   "source": [
    "Exercise A\n",
    "\n",
    "Create a system of equations for a1=5+e, where e is the fourth digit of your index,\n",
    "a2=a3=-1.The size of the matrix N is defined in section 2 of this manual. b is a vector\n",
    "of length N, whose first element is the value of sin(n-(f+1)), where f is the third digit of your index."
   ]
  },
  {
   "cell_type": "code",
   "execution_count": 2,
   "metadata": {},
   "outputs": [
    {
     "name": "stdout",
     "output_type": "stream",
     "text": [
      "[[13 -1 -1 ...  0  0  0]\n",
      " [-1 13 -1 ...  0  0  0]\n",
      " [-1 -1 13 ...  0  0  0]\n",
      " ...\n",
      " [ 0  0  0 ... 13 -1 -1]\n",
      " [ 0  0  0 ... -1 13 -1]\n",
      " [ 0  0  0 ... -1 -1 13]]\n",
      "[[ 0.98935825]\n",
      " [ 0.91794788]\n",
      " [ 0.3781055 ]\n",
      " ...\n",
      " [ 0.96749073]\n",
      " [-0.72202085]\n",
      " [-0.69618518]]\n"
     ]
    }
   ],
   "source": [
    "\n",
    "index = 197839\n",
    "\n",
    "thrid_digit = index // 1000 % 10 # 3rd digit of index\n",
    "fourth_digit = index // 100 % 10 # 4th digit of index\n",
    "\n",
    "before_last = index // 10 % 10 # before last digit of index\n",
    "last_digit = index % 10 # last digit of index\n",
    "\n",
    "a1 = 5 + fourth_digit# a1 = 5 + 4th digit of index\n",
    "a2 = a3 = -1 \n",
    "\n",
    "N = 1200 + 10 * before_last + last_digit\n",
    "\n",
    "A = create_band_matrix(a1,a2,a3, N) \n",
    "b = create_forcing_matrix(N, thrid_digit + 1)\n",
    "\n",
    "print(A)\n",
    "print(b)\n"
   ]
  },
  {
   "cell_type": "markdown",
   "metadata": {},
   "source": [
    "Exercise B\n",
    "Implement iterative methods for solving systems of linear equations:\n",
    "Jacobi and Gauss-Seidel. Describe how many iterations each method needs to determine the\n",
    "solution of the system of equations from task A,assuming that the condition for completing the calculation\n",
    "is to achieve a residuum norm of less than 10^-9.For both methods, show on the graph\n",
    "how the norm of the residuum changes in successive iterations performed to determine the\n",
    "solution(y-axis on a logarithmic scale).Compare the running times of both algorithms."
   ]
  },
  {
   "cell_type": "code",
   "execution_count": 3,
   "metadata": {},
   "outputs": [
    {
     "name": "stdout",
     "output_type": "stream",
     "text": [
      "Solve: [[ 0.08619333]\n",
      " [ 0.08713164]\n",
      " [ 0.04402346]\n",
      " ...\n",
      " [ 0.0725084 ]\n",
      " [-0.04886916]\n",
      " [-0.0517343 ]]\n",
      "Iterations: 16\n",
      "Errors: [inf, np.float64(57.69054235797828), np.float64(10.47822553267532), np.float64(1.9036792901819448), np.float64(0.3458883888986374), np.float64(0.06284844301803137), np.float64(0.011419912450782523), np.float64(0.0020751048536288147), np.float64(0.00037707508803551577), np.float64(6.85210433200765e-05), np.float64(1.2451617677779347e-05), np.float64(2.262713515089456e-06), np.float64(4.111806353379835e-07), np.float64(7.471981705281636e-08), np.float64(1.3578150941809443e-08), np.float64(2.4674427472159937e-09), np.float64(4.4838832454904943e-10)]\n",
      "Time: 22.41893196105957\n"
     ]
    }
   ],
   "source": [
    "# jacobi:OutputSolution = solve_jacobi(A, b)\n",
    "\n",
    "# print(\"Iterations:\", jacobi.iterations)\n",
    "# print(\"Errors:\", jacobi.errors)\n",
    "# print(\"Time:\", jacobi.time)\n",
    "\n",
    "gauss:OutputSolution = solve_gauss_seidel(A, b)\n",
    "\n",
    "print(\"Solve:\", gauss.x)\n",
    "print(\"Iterations:\", gauss.iterations)\n",
    "print(\"Errors:\", gauss.errors)\n",
    "print(\"Time:\", gauss.time)"
   ]
  }
 ],
 "metadata": {
  "kernelspec": {
   "display_name": "my_env",
   "language": "python",
   "name": "python3"
  },
  "language_info": {
   "codemirror_mode": {
    "name": "ipython",
    "version": 3
   },
   "file_extension": ".py",
   "mimetype": "text/x-python",
   "name": "python",
   "nbconvert_exporter": "python",
   "pygments_lexer": "ipython3",
   "version": "3.10.0"
  }
 },
 "nbformat": 4,
 "nbformat_minor": 2
}
