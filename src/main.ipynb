{
 "cells": [
  {
   "cell_type": "markdown",
   "metadata": {},
   "source": [
    "Imports"
   ]
  },
  {
   "cell_type": "code",
   "execution_count": 1,
   "metadata": {},
   "outputs": [],
   "source": [
    "import numpy as np\n",
    "from helpers import create_band_matrix,create_forcing_matrix"
   ]
  },
  {
   "cell_type": "markdown",
   "metadata": {},
   "source": [
    "Exercise A"
   ]
  },
  {
   "cell_type": "code",
   "execution_count": 2,
   "metadata": {},
   "outputs": [
    {
     "name": "stdout",
     "output_type": "stream",
     "text": [
      "[[ 0.98935825]\n",
      " [-0.28790332]\n",
      " [-0.90557836]\n",
      " ...\n",
      " [-0.01685801]\n",
      " [ 0.99167049]\n",
      " [-0.27171817]]\n"
     ]
    }
   ],
   "source": [
    "\n",
    "index = 197839\n",
    "\n",
    "thrid_digit = index // 1000 % 10 # 3rd digit of index\n",
    "fourth_digit = index // 100 % 10 # 4th digit of index\n",
    "\n",
    "before_last = index // 10 % 10 # before last digit of index\n",
    "last_digit = index % 10 # last digit of index\n",
    "\n",
    "a1 = 5 + fourth_digit # a1 = 5 + 4th digit of index\n",
    "a2 = a3 = -1 \n",
    "\n",
    "N = 1200 + 10 * before_last + last_digit\n",
    "\n",
    "A = create_band_matrix(a1,a2,a3, N) \n",
    "b = create_forcing_matrix(N, thrid_digit + 1 )\n",
    "num = index // 100 % 10\n",
    "\n",
    "print(b)\n"
   ]
  }
 ],
 "metadata": {
  "kernelspec": {
   "display_name": "my_env",
   "language": "python",
   "name": "python3"
  },
  "language_info": {
   "codemirror_mode": {
    "name": "ipython",
    "version": 3
   },
   "file_extension": ".py",
   "mimetype": "text/x-python",
   "name": "python",
   "nbconvert_exporter": "python",
   "pygments_lexer": "ipython3",
   "version": "3.10.0"
  }
 },
 "nbformat": 4,
 "nbformat_minor": 2
}
