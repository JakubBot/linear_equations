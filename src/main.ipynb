{
 "cells": [
  {
   "cell_type": "markdown",
   "metadata": {},
   "source": [
    "Imports"
   ]
  },
  {
   "cell_type": "code",
   "execution_count": null,
   "metadata": {},
   "outputs": [],
   "source": [
    "import numpy as np\n",
    "from helpers import create_band_matrix,create_forcing_matrix\n",
    "from matrix_algorithms import solve_jacobi,OutputSolution"
   ]
  },
  {
   "cell_type": "markdown",
   "metadata": {},
   "source": [
    "Exercise A\n",
    "\n",
    "Create a system of equations for a1=5+e, where e is the fourth digit of your index,\n",
    "a2=a3=-1.The size of the matrix N is defined in section 2 of this manual. b is a vector\n",
    "of length N, whose first element is the value of sin(n-(f+1)), where f is the third digit of your index."
   ]
  },
  {
   "cell_type": "code",
   "execution_count": null,
   "metadata": {},
   "outputs": [
    {
     "name": "stdout",
     "output_type": "stream",
     "text": [
      "[[ 3 -1 -1 ...  0  0  0]\n",
      " [-1  3 -1 ...  0  0  0]\n",
      " [-1 -1  3 ...  0  0  0]\n",
      " ...\n",
      " [ 0  0  0 ...  3 -1 -1]\n",
      " [ 0  0  0 ... -1  3 -1]\n",
      " [ 0  0  0 ... -1 -1  3]]\n",
      "[[ 0.98935825]\n",
      " [ 0.91794788]\n",
      " [ 0.3781055 ]\n",
      " ...\n",
      " [ 0.96749073]\n",
      " [-0.72202085]\n",
      " [-0.69618518]]\n"
     ]
    }
   ],
   "source": [
    "\n",
    "index = 197839\n",
    "\n",
    "thrid_digit = index // 1000 % 10 # 3rd digit of index\n",
    "fourth_digit = index // 100 % 10 # 4th digit of index\n",
    "\n",
    "before_last = index // 10 % 10 # before last digit of index\n",
    "last_digit = index % 10 # last digit of index\n",
    "\n",
    "a1 = 5 + fourth_digit# a1 = 5 + 4th digit of index\n",
    "a2 = a3 = -1 \n",
    "\n",
    "N = 1200 + 10 * before_last + last_digit\n",
    "\n",
    "A = create_band_matrix(a1,a2,a3, N) \n",
    "b = create_forcing_matrix(N, thrid_digit + 1)\n",
    "\n",
    "print(A)\n",
    "print(b)\n"
   ]
  },
  {
   "cell_type": "markdown",
   "metadata": {},
   "source": [
    "Exercise B\n",
    "Implement iterative methods for solving systems of linear equations:\n",
    "Jacobi and Gauss-Seidel. Describe how many iterations each method needs to determine the\n",
    "solution of the system of equations from task A,assuming that the condition for completing the calculation\n",
    "is to achieve a residuum norm of less than 10^-9.For both methods, show on the graph\n",
    "how the norm of the residuum changes in successive iterations performed to determine the\n",
    "solution(y-axis on a logarithmic scale).Compare the running times of both algorithms."
   ]
  },
  {
   "cell_type": "code",
   "execution_count": null,
   "metadata": {},
   "outputs": [
    {
     "name": "stdout",
     "output_type": "stream",
     "text": [
      "Current error: 49.482996027639466\n",
      "Current error: 64.30920560711915\n",
      "Current error: 84.96354695438798\n",
      "Current error: 112.75662041223366\n",
      "Current error: 149.89140263234924\n",
      "Current error: 199.41427764020298\n",
      "Current error: 265.4200571766756\n",
      "Current error: 353.37868958819126\n",
      "Current error: 470.58533626461394\n",
      "Current error: 626.7649862559771\n",
      "Current error: 834.8800390219976\n",
      "Current error: 1112.207406782404\n",
      "Current error: 1481.7745021506232\n",
      "Current error: 1974.2734688368537\n"
     ]
    },
    {
     "ename": "KeyboardInterrupt",
     "evalue": "",
     "output_type": "error",
     "traceback": [
      "\u001b[1;31m---------------------------------------------------------------------------\u001b[0m",
      "\u001b[1;31mKeyboardInterrupt\u001b[0m                         Traceback (most recent call last)",
      "Cell \u001b[1;32mIn[4], line 1\u001b[0m\n\u001b[1;32m----> 1\u001b[0m result \u001b[38;5;241m=\u001b[39m \u001b[43msolve_jacobi\u001b[49m\u001b[43m(\u001b[49m\u001b[43mA\u001b[49m\u001b[43m,\u001b[49m\u001b[43m \u001b[49m\u001b[43mb\u001b[49m\u001b[43m)\u001b[49m\n\u001b[0;32m      3\u001b[0m \u001b[38;5;28mprint\u001b[39m(\u001b[38;5;124m\"\u001b[39m\u001b[38;5;124mSolution:\u001b[39m\u001b[38;5;124m\"\u001b[39m, result\u001b[38;5;241m.\u001b[39mx)\n\u001b[0;32m      4\u001b[0m \u001b[38;5;28mprint\u001b[39m(\u001b[38;5;124m\"\u001b[39m\u001b[38;5;124mIterations:\u001b[39m\u001b[38;5;124m\"\u001b[39m, result\u001b[38;5;241m.\u001b[39miterations)\n",
      "File \u001b[1;32mc:\\Users\\Jakub Bot\\Desktop\\Numeryczne\\Linear equations\\src\\matrix_algorithms.py:28\u001b[0m, in \u001b[0;36msolve_jacobi\u001b[1;34m(A, b, precision, max_error)\u001b[0m\n\u001b[0;32m     26\u001b[0m \u001b[38;5;66;03m# A = L + U + D, L is lower triangular, U is upper triangular, D is diagonal\u001b[39;00m\n\u001b[0;32m     27\u001b[0m \u001b[38;5;28;01mfor\u001b[39;00m i \u001b[38;5;129;01min\u001b[39;00m \u001b[38;5;28mrange\u001b[39m(\u001b[38;5;28mlen\u001b[39m(A)):\n\u001b[1;32m---> 28\u001b[0m   sum_L_U \u001b[38;5;241m=\u001b[39m \u001b[38;5;28;43msum\u001b[39;49m\u001b[43m(\u001b[49m\u001b[43mA\u001b[49m\u001b[43m[\u001b[49m\u001b[43mi\u001b[49m\u001b[43m]\u001b[49m\u001b[43m[\u001b[49m\u001b[43mj\u001b[49m\u001b[43m]\u001b[49m\u001b[43m \u001b[49m\u001b[38;5;241;43m*\u001b[39;49m\u001b[43m \u001b[49m\u001b[43mx\u001b[49m\u001b[43m[\u001b[49m\u001b[43mj\u001b[49m\u001b[43m]\u001b[49m\u001b[43m[\u001b[49m\u001b[38;5;241;43m0\u001b[39;49m\u001b[43m]\u001b[49m\u001b[43m \u001b[49m\u001b[38;5;28;43;01mfor\u001b[39;49;00m\u001b[43m \u001b[49m\u001b[43mj\u001b[49m\u001b[43m \u001b[49m\u001b[38;5;129;43;01min\u001b[39;49;00m\u001b[43m \u001b[49m\u001b[38;5;28;43mrange\u001b[39;49m\u001b[43m(\u001b[49m\u001b[38;5;28;43mlen\u001b[39;49m\u001b[43m(\u001b[49m\u001b[43mA\u001b[49m\u001b[43m)\u001b[49m\u001b[43m)\u001b[49m\u001b[43m \u001b[49m\u001b[38;5;28;43;01mif\u001b[39;49;00m\u001b[43m \u001b[49m\u001b[43mi\u001b[49m\u001b[43m \u001b[49m\u001b[38;5;241;43m!=\u001b[39;49m\u001b[43m \u001b[49m\u001b[43mj\u001b[49m\u001b[43m)\u001b[49m \u001b[38;5;66;03m# K = (L + U) * x\u001b[39;00m\n\u001b[0;32m     29\u001b[0m   new_x[i][\u001b[38;5;241m0\u001b[39m] \u001b[38;5;241m=\u001b[39m (b[i] \u001b[38;5;241m-\u001b[39m sum_L_U) \u001b[38;5;241m/\u001b[39m A[i][i] \u001b[38;5;66;03m# (b - K) / D\u001b[39;00m\n\u001b[0;32m     32\u001b[0m current_error \u001b[38;5;241m=\u001b[39m np\u001b[38;5;241m.\u001b[39mlinalg\u001b[38;5;241m.\u001b[39mnorm(np\u001b[38;5;241m.\u001b[39mdot(A, new_x) \u001b[38;5;241m-\u001b[39m b)\n",
      "File \u001b[1;32mc:\\Users\\Jakub Bot\\Desktop\\Numeryczne\\Linear equations\\src\\matrix_algorithms.py:28\u001b[0m, in \u001b[0;36m<genexpr>\u001b[1;34m(.0)\u001b[0m\n\u001b[0;32m     26\u001b[0m \u001b[38;5;66;03m# A = L + U + D, L is lower triangular, U is upper triangular, D is diagonal\u001b[39;00m\n\u001b[0;32m     27\u001b[0m \u001b[38;5;28;01mfor\u001b[39;00m i \u001b[38;5;129;01min\u001b[39;00m \u001b[38;5;28mrange\u001b[39m(\u001b[38;5;28mlen\u001b[39m(A)):\n\u001b[1;32m---> 28\u001b[0m   sum_L_U \u001b[38;5;241m=\u001b[39m \u001b[38;5;28msum\u001b[39m(A[i][j] \u001b[38;5;241m*\u001b[39m x[j][\u001b[38;5;241m0\u001b[39m] \u001b[38;5;28;01mfor\u001b[39;00m j \u001b[38;5;129;01min\u001b[39;00m \u001b[38;5;28mrange\u001b[39m(\u001b[38;5;28mlen\u001b[39m(A)) \u001b[38;5;28;01mif\u001b[39;00m i \u001b[38;5;241m!=\u001b[39m j) \u001b[38;5;66;03m# K = (L + U) * x\u001b[39;00m\n\u001b[0;32m     29\u001b[0m   new_x[i][\u001b[38;5;241m0\u001b[39m] \u001b[38;5;241m=\u001b[39m (b[i] \u001b[38;5;241m-\u001b[39m sum_L_U) \u001b[38;5;241m/\u001b[39m A[i][i] \u001b[38;5;66;03m# (b - K) / D\u001b[39;00m\n\u001b[0;32m     32\u001b[0m current_error \u001b[38;5;241m=\u001b[39m np\u001b[38;5;241m.\u001b[39mlinalg\u001b[38;5;241m.\u001b[39mnorm(np\u001b[38;5;241m.\u001b[39mdot(A, new_x) \u001b[38;5;241m-\u001b[39m b)\n",
      "\u001b[1;31mKeyboardInterrupt\u001b[0m: "
     ]
    }
   ],
   "source": [
    "result:OutputSolution = solve_jacobi(A, b)\n",
    "\n",
    "print(\"Solution:\", result.x)\n",
    "print(\"Iterations:\", result.iterations)\n",
    "print(\"Errors:\", result.errors)\n",
    "print(\"Time:\", result.time)"
   ]
  }
 ],
 "metadata": {
  "kernelspec": {
   "display_name": "my_env",
   "language": "python",
   "name": "python3"
  },
  "language_info": {
   "codemirror_mode": {
    "name": "ipython",
    "version": 3
   },
   "file_extension": ".py",
   "mimetype": "text/x-python",
   "name": "python",
   "nbconvert_exporter": "python",
   "pygments_lexer": "ipython3",
   "version": "3.10.0"
  }
 },
 "nbformat": 4,
 "nbformat_minor": 2
}
